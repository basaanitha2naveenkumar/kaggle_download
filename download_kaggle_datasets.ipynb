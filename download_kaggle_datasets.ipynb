{
 "cells": [
  {
   "cell_type": "code",
   "execution_count": 2,
   "id": "8dde4e52-7874-4514-aaff-a65f5cb93027",
   "metadata": {},
   "outputs": [
    {
     "name": "stdout",
     "output_type": "stream",
     "text": [
      "Warning: Your Kaggle API key is readable by other users on this system! To fix this, you can run 'chmod 600 /root/.kaggle/kaggle.json'\n"
     ]
    }
   ],
   "source": [
    "# download the dstl dataset\n",
    "from kaggle.api.kaggle_api_extended import KaggleApi\n",
    "# connect to kaggle api and authenticate\n",
    "api = KaggleApi()\n",
    "api.authenticate()"
   ]
  },
  {
   "cell_type": "code",
   "execution_count": null,
   "id": "2b57f430-28c2-4ff7-9081-95f34850b530",
   "metadata": {},
   "outputs": [],
   "source": [
    "name_of_dataset=\"dstl-satellite-imagery-feature-detection\"\n",
    "api.competition_download_files(name_of_dataset)"
   ]
  },
  {
   "cell_type": "code",
   "execution_count": null,
   "id": "86e103f3-057b-491f-8043-0762df1b23cc",
   "metadata": {},
   "outputs": [],
   "source": [
    "# or use this command to download the dataset\n",
    "!kaggle competitions download -c dstl-satellite-imagery-feature-detection"
   ]
  },
  {
   "cell_type": "code",
   "execution_count": 1,
   "id": "fdc6ace2-da79-423e-b5ef-56e30a5e3be3",
   "metadata": {},
   "outputs": [
    {
     "name": "stdout",
     "output_type": "stream",
     "text": [
      "Looking in indexes: https://pypi.org/simple, https://pypi.ngc.nvidia.com\n",
      "Collecting opendatasets\n",
      "  Downloading opendatasets-0.1.22-py3-none-any.whl (15 kB)\n",
      "Collecting kaggle\n",
      "  Downloading kaggle-1.5.12.tar.gz (58 kB)\n",
      "\u001b[K     |████████████████████████████████| 58 kB 1.2 MB/s eta 0:00:01\n",
      "\u001b[?25hRequirement already satisfied: tqdm in /root/anaconda3/lib/python3.9/site-packages (from opendatasets) (4.64.0)\n",
      "Requirement already satisfied: click in /root/anaconda3/lib/python3.9/site-packages (from opendatasets) (8.0.4)\n",
      "Requirement already satisfied: six>=1.10 in /root/anaconda3/lib/python3.9/site-packages (from kaggle->opendatasets) (1.16.0)\n",
      "Requirement already satisfied: certifi in /root/anaconda3/lib/python3.9/site-packages (from kaggle->opendatasets) (2021.10.8)\n",
      "Requirement already satisfied: python-dateutil in /root/anaconda3/lib/python3.9/site-packages (from kaggle->opendatasets) (2.8.2)\n",
      "Requirement already satisfied: requests in /root/anaconda3/lib/python3.9/site-packages (from kaggle->opendatasets) (2.28.1)\n",
      "Requirement already satisfied: python-slugify in /root/anaconda3/lib/python3.9/site-packages (from kaggle->opendatasets) (5.0.2)\n",
      "Requirement already satisfied: urllib3 in /root/anaconda3/lib/python3.9/site-packages (from kaggle->opendatasets) (1.26.9)\n",
      "Requirement already satisfied: text-unidecode>=1.3 in /root/anaconda3/lib/python3.9/site-packages (from python-slugify->kaggle->opendatasets) (1.3)\n",
      "Requirement already satisfied: charset-normalizer<3,>=2 in /root/anaconda3/lib/python3.9/site-packages (from requests->kaggle->opendatasets) (2.0.4)\n",
      "Requirement already satisfied: idna<4,>=2.5 in /root/anaconda3/lib/python3.9/site-packages (from requests->kaggle->opendatasets) (3.3)\n",
      "Building wheels for collected packages: kaggle\n",
      "  Building wheel for kaggle (setup.py) ... \u001b[?25ldone\n",
      "\u001b[?25h  Created wheel for kaggle: filename=kaggle-1.5.12-py3-none-any.whl size=73049 sha256=066f4bd88dd9b00d5ce3d36b789187eee8e520f83c2582fbab344137163e6772\n",
      "  Stored in directory: /tmp/pip-ephem-wheel-cache-p80cb41x/wheels/ac/b2/c3/fa4706d469b5879105991d1c8be9a3c2ef329ba9fe2ce5085e\n",
      "Successfully built kaggle\n",
      "Installing collected packages: kaggle, opendatasets\n",
      "Successfully installed kaggle-1.5.12 opendatasets-0.1.22\n",
      "\u001b[33mWARNING: Running pip as the 'root' user can result in broken permissions and conflicting behaviour with the system package manager. It is recommended to use a virtual environment instead: https://pip.pypa.io/warnings/venv\u001b[0m\n"
     ]
    }
   ],
   "source": [
    "# can download the kaggle datasets with opendatasets as well\n",
    "!pip install opendatasets"
   ]
  },
  {
   "cell_type": "code",
   "execution_count": null,
   "id": "a6c82f31-a0a8-460b-93bd-6a4c01ceed59",
   "metadata": {},
   "outputs": [
    {
     "name": "stdout",
     "output_type": "stream",
     "text": [
      "Please provide your Kaggle credentials to download this dataset. Learn more: http://bit.ly/kaggle-creds\n",
      "Your Kaggle username:"
     ]
    }
   ],
   "source": [
    "import opendatasets as opd\n",
    "# give the link\n",
    "link_add=\"https://www.kaggle.com/rashikrahmanpritom/heart-attack-analysis-prediction-dataset\"\n",
    "opd.download(link_add)"
   ]
  },
  {
   "cell_type": "code",
   "execution_count": null,
   "id": "804f3a28-0109-448a-9ffb-9dea34c30b09",
   "metadata": {},
   "outputs": [],
   "source": []
  }
 ],
 "metadata": {
  "kernelspec": {
   "display_name": "n_test_pytorch",
   "language": "python",
   "name": "n_test_pytorch"
  },
  "language_info": {
   "codemirror_mode": {
    "name": "ipython",
    "version": 3
   },
   "file_extension": ".py",
   "mimetype": "text/x-python",
   "name": "python",
   "nbconvert_exporter": "python",
   "pygments_lexer": "ipython3",
   "version": "3.10.4"
  }
 },
 "nbformat": 4,
 "nbformat_minor": 5
}
